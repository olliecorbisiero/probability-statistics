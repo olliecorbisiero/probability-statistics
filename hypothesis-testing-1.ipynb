{
 "cells": [
  {
   "cell_type": "markdown",
   "metadata": {},
   "source": [
    "# Before your start:\n",
    "- Read the README.md file\n",
    "- Comment as much as you can and use the resources (README.md file)\n",
    "- Happy learning!"
   ]
  },
  {
   "cell_type": "code",
   "execution_count": 156,
   "metadata": {},
   "outputs": [],
   "source": [
    "# import numpy and pandas\n",
    "import numpy as np\n",
    "import pandas as pd\n",
    "import scipy.stats as st"
   ]
  },
  {
   "cell_type": "markdown",
   "metadata": {},
   "source": [
    "# Challenge 1 - Exploring the Data\n",
    "\n",
    "In this challenge, we will examine all salaries of employees of the City of Chicago. We will start by loading the dataset and examining its contents."
   ]
  },
  {
   "cell_type": "code",
   "execution_count": 157,
   "metadata": {},
   "outputs": [],
   "source": [
    "# Your code here:\n",
    "\n",
    "salaries = pd.read_csv('./Current_Employee_Names__Salaries__and_Position_Titles.csv')\n",
    "\n"
   ]
  },
  {
   "cell_type": "markdown",
   "metadata": {},
   "source": [
    "Examine the `salaries` dataset using the `head` function below."
   ]
  },
  {
   "cell_type": "code",
   "execution_count": 158,
   "metadata": {},
   "outputs": [
    {
     "data": {
      "text/html": [
       "<div>\n",
       "<style scoped>\n",
       "    .dataframe tbody tr th:only-of-type {\n",
       "        vertical-align: middle;\n",
       "    }\n",
       "\n",
       "    .dataframe tbody tr th {\n",
       "        vertical-align: top;\n",
       "    }\n",
       "\n",
       "    .dataframe thead th {\n",
       "        text-align: right;\n",
       "    }\n",
       "</style>\n",
       "<table border=\"1\" class=\"dataframe\">\n",
       "  <thead>\n",
       "    <tr style=\"text-align: right;\">\n",
       "      <th></th>\n",
       "      <th>Name</th>\n",
       "      <th>Job Titles</th>\n",
       "      <th>Department</th>\n",
       "      <th>Full or Part-Time</th>\n",
       "      <th>Salary or Hourly</th>\n",
       "      <th>Typical Hours</th>\n",
       "      <th>Annual Salary</th>\n",
       "      <th>Hourly Rate</th>\n",
       "    </tr>\n",
       "  </thead>\n",
       "  <tbody>\n",
       "    <tr>\n",
       "      <th>22282</th>\n",
       "      <td>PAGAN,  LAURA M</td>\n",
       "      <td>POLICE OFFICER</td>\n",
       "      <td>POLICE</td>\n",
       "      <td>F</td>\n",
       "      <td>Salary</td>\n",
       "      <td>NaN</td>\n",
       "      <td>87006.0</td>\n",
       "      <td>NaN</td>\n",
       "    </tr>\n",
       "    <tr>\n",
       "      <th>22242</th>\n",
       "      <td>PACINO,  WENDY A</td>\n",
       "      <td>POLICE OFFICER</td>\n",
       "      <td>POLICE</td>\n",
       "      <td>F</td>\n",
       "      <td>Salary</td>\n",
       "      <td>NaN</td>\n",
       "      <td>93354.0</td>\n",
       "      <td>NaN</td>\n",
       "    </tr>\n",
       "    <tr>\n",
       "      <th>76</th>\n",
       "      <td>ACEVEDO,  JASON M</td>\n",
       "      <td>POLICE OFFICER</td>\n",
       "      <td>POLICE</td>\n",
       "      <td>F</td>\n",
       "      <td>Salary</td>\n",
       "      <td>NaN</td>\n",
       "      <td>90024.0</td>\n",
       "      <td>NaN</td>\n",
       "    </tr>\n",
       "    <tr>\n",
       "      <th>29060</th>\n",
       "      <td>TALAVERA,  FEDERICO</td>\n",
       "      <td>FIREFIGHTER-EMT</td>\n",
       "      <td>FIRE</td>\n",
       "      <td>F</td>\n",
       "      <td>Salary</td>\n",
       "      <td>NaN</td>\n",
       "      <td>92274.0</td>\n",
       "      <td>NaN</td>\n",
       "    </tr>\n",
       "    <tr>\n",
       "      <th>18662</th>\n",
       "      <td>MC CLURE,  JAMES E</td>\n",
       "      <td>FIREFIGHTER</td>\n",
       "      <td>FIRE</td>\n",
       "      <td>F</td>\n",
       "      <td>Salary</td>\n",
       "      <td>NaN</td>\n",
       "      <td>87006.0</td>\n",
       "      <td>NaN</td>\n",
       "    </tr>\n",
       "  </tbody>\n",
       "</table>\n",
       "</div>"
      ],
      "text/plain": [
       "                       Name       Job Titles Department Full or Part-Time  \\\n",
       "22282       PAGAN,  LAURA M   POLICE OFFICER     POLICE                 F   \n",
       "22242      PACINO,  WENDY A   POLICE OFFICER     POLICE                 F   \n",
       "76        ACEVEDO,  JASON M   POLICE OFFICER     POLICE                 F   \n",
       "29060  TALAVERA,  FEDERICO   FIREFIGHTER-EMT       FIRE                 F   \n",
       "18662    MC CLURE,  JAMES E      FIREFIGHTER       FIRE                 F   \n",
       "\n",
       "      Salary or Hourly  Typical Hours  Annual Salary  Hourly Rate  \n",
       "22282           Salary            NaN        87006.0          NaN  \n",
       "22242           Salary            NaN        93354.0          NaN  \n",
       "76              Salary            NaN        90024.0          NaN  \n",
       "29060           Salary            NaN        92274.0          NaN  \n",
       "18662           Salary            NaN        87006.0          NaN  "
      ]
     },
     "execution_count": 158,
     "metadata": {},
     "output_type": "execute_result"
    }
   ],
   "source": [
    "# Your code here:\n",
    "\n",
    "#salaries.reset_index(inplace=True)\n",
    "\n",
    "salaries.sample(5)"
   ]
  },
  {
   "cell_type": "markdown",
   "metadata": {},
   "source": [
    "We see from looking at the `head` function that there is quite a bit of missing data. Let's examine how much missing data is in each column. Produce this output in the cell below"
   ]
  },
  {
   "cell_type": "code",
   "execution_count": 159,
   "metadata": {},
   "outputs": [
    {
     "data": {
      "text/plain": [
       "Name                     0\n",
       "Job Titles               0\n",
       "Department               0\n",
       "Full or Part-Time        0\n",
       "Salary or Hourly         0\n",
       "Typical Hours        25161\n",
       "Annual Salary         8022\n",
       "Hourly Rate          25161\n",
       "dtype: int64"
      ]
     },
     "execution_count": 159,
     "metadata": {},
     "output_type": "execute_result"
    }
   ],
   "source": [
    "# Your code here:\n",
    "\n",
    "salaries.isnull().sum()"
   ]
  },
  {
   "cell_type": "markdown",
   "metadata": {},
   "source": [
    "Let's also look at the count of hourly vs. salaried employees. Write the code in the cell below"
   ]
  },
  {
   "cell_type": "code",
   "execution_count": 160,
   "metadata": {},
   "outputs": [
    {
     "data": {
      "text/plain": [
       "Salary    25161\n",
       "Hourly     8022\n",
       "Name: Salary or Hourly, dtype: int64"
      ]
     },
     "execution_count": 160,
     "metadata": {},
     "output_type": "execute_result"
    }
   ],
   "source": [
    "# Your code here:\n",
    "\n",
    "salaries['Salary or Hourly'].value_counts()\n"
   ]
  },
  {
   "cell_type": "code",
   "execution_count": null,
   "metadata": {},
   "outputs": [],
   "source": []
  },
  {
   "cell_type": "markdown",
   "metadata": {},
   "source": [
    "What this information indicates is that the table contains information about two types of employees - salaried and hourly. Some columns apply only to one type of employee while other columns only apply to another kind. This is why there are so many missing values. Therefore, we will not do anything to handle the missing values."
   ]
  },
  {
   "cell_type": "markdown",
   "metadata": {},
   "source": [
    "There are different departments in the city. List all departments and the count of employees in each department."
   ]
  },
  {
   "cell_type": "code",
   "execution_count": 161,
   "metadata": {},
   "outputs": [
    {
     "data": {
      "text/plain": [
       "POLICE                   13414\n",
       "FIRE                      4641\n",
       "STREETS & SAN             2198\n",
       "OEMC                      2102\n",
       "WATER MGMNT               1879\n",
       "AVIATION                  1629\n",
       "TRANSPORTN                1140\n",
       "PUBLIC LIBRARY            1015\n",
       "GENERAL SERVICES           980\n",
       "FAMILY & SUPPORT           615\n",
       "FINANCE                    560\n",
       "HEALTH                     488\n",
       "CITY COUNCIL               411\n",
       "LAW                        407\n",
       "BUILDINGS                  269\n",
       "COMMUNITY DEVELOPMENT      207\n",
       "BUSINESS AFFAIRS           171\n",
       "COPA                       116\n",
       "BOARD OF ELECTION          107\n",
       "DoIT                        99\n",
       "PROCUREMENT                 92\n",
       "INSPECTOR GEN               87\n",
       "MAYOR'S OFFICE              85\n",
       "CITY CLERK                  84\n",
       "ANIMAL CONTRL               81\n",
       "HUMAN RESOURCES             79\n",
       "CULTURAL AFFAIRS            65\n",
       "BUDGET & MGMT               46\n",
       "ADMIN HEARNG                39\n",
       "DISABILITIES                28\n",
       "TREASURER                   22\n",
       "HUMAN RELATIONS             16\n",
       "BOARD OF ETHICS              8\n",
       "POLICE BOARD                 2\n",
       "LICENSE APPL COMM            1\n",
       "Name: Department, dtype: int64"
      ]
     },
     "execution_count": 161,
     "metadata": {},
     "output_type": "execute_result"
    }
   ],
   "source": [
    "# Your code here:\n",
    "salaries['Department'].value_counts()\n"
   ]
  },
  {
   "cell_type": "markdown",
   "metadata": {},
   "source": [
    "# Challenge 2 - Hypothesis Tests\n",
    "\n",
    "In this section of the lab, we will test whether the hourly wage of all hourly workers is significantly different from $30/hr. Import the correct one sample test function from scipy and perform the hypothesis test for a 95% two sided confidence interval."
   ]
  },
  {
   "cell_type": "code",
   "execution_count": 162,
   "metadata": {},
   "outputs": [],
   "source": [
    "# Your code here:\n",
    "\n",
    "#1. set the hypothesis\n",
    "#h0: hourly wage = $30/hr\n",
    "#h1: hourly wage ! = $30/hr\n",
    "#two sided direction\n",
    "\n",
    "#2 choose significance level: 95%\n",
    "sig_level=0.05\n",
    "\n",
    "#3 sample\n",
    "hourly_sample = salaries[salaries['Salary or Hourly']=='Hourly'].sample(50)\n",
    "\n"
   ]
  },
  {
   "cell_type": "code",
   "execution_count": 163,
   "metadata": {},
   "outputs": [
    {
     "name": "stdout",
     "output_type": "stream",
     "text": [
      "1.6857555358212528\n",
      "0.09820160127401995\n"
     ]
    }
   ],
   "source": [
    "#4 compute statistic\n",
    "#sample mean - pop mean/(pop stdev/np.sqrt(n)\n",
    "#however, we don't have pop stdev(replicating industry scenario) so we use s (sample stdev) and t distribution with\n",
    "#n-1 degrees of freedom\n",
    "#sample mean - pop mean/(sample stdev/np.sqrt(n)\n",
    "n=50\n",
    "mu = 30\n",
    "mean = hourly_sample['Hourly Rate'].mean()\n",
    "s = hourly_sample['Hourly Rate'].std(ddof=1)\n",
    "\n",
    "statistic = (mean - mu)/(s/np.sqrt(n))\n",
    "print(statistic)\n",
    "#note my sample mean is 1.68 stdevs from the H0 mean (t-score?)\n",
    "\n",
    "#5 get p-value (how unlikely it is to be 1.68 stdevs from the mean \n",
    "\n",
    "p_value = st.t.sf(abs(statistic),n-1)*2\n",
    "\n",
    "print(p_value)\n",
    "\n",
    "#6 decide\n",
    "\n",
    "#sig level = 1-confidence level, so 0.05 error is acceptable, however I have ~0.098 - H0 still stands"
   ]
  },
  {
   "cell_type": "code",
   "execution_count": 164,
   "metadata": {},
   "outputs": [
    {
     "data": {
      "text/plain": [
       "Ttest_1sampResult(statistic=1.6857555358212528, pvalue=0.09820160127401995)"
      ]
     },
     "execution_count": 164,
     "metadata": {},
     "output_type": "execute_result"
    }
   ],
   "source": [
    "#using built in function \n",
    "\n",
    "st.ttest_1samp(hourly_sample['Hourly Rate'],mu)"
   ]
  },
  {
   "cell_type": "markdown",
   "metadata": {},
   "source": [
    "We are also curious about salaries in the police force. The chief of police in Chicago claimed in a press briefing that salaries this year are higher than last year's mean of $86000/year a year for all salaried employees. Test this one sided hypothesis using a 95% confidence interval.\n",
    "\n",
    "Hint: A one tailed test has a p-value that is half of the two tailed p-value. If our hypothesis is greater than, then to reject, the test statistic must also be positive."
   ]
  },
  {
   "cell_type": "code",
   "execution_count": 165,
   "metadata": {},
   "outputs": [],
   "source": [
    "# Your code here:\n",
    "\n",
    "#1. set hypothesis h0: ave salary > 86k/yr for all salaried employees\n",
    "#note one sided\n",
    "\n",
    "#2. sig level = 5%\n",
    "\n",
    "#3. sample\n",
    "police_sample = salaries[salaries['Department']=='POLICE']['Annual Salary'].sample(50)\n"
   ]
  },
  {
   "cell_type": "code",
   "execution_count": 166,
   "metadata": {},
   "outputs": [
    {
     "name": "stdout",
     "output_type": "stream",
     "text": [
      "-0.0991302404662197\n"
     ]
    },
    {
     "data": {
      "text/plain": [
       "0.4607196529908868"
      ]
     },
     "execution_count": 166,
     "metadata": {},
     "output_type": "execute_result"
    }
   ],
   "source": [
    "#4 compute statistic\n",
    "# sample mean - popmean/(sample std/np.sqrt(n)) using t distribution with n-1 degrees of freedom\n",
    "\n",
    "mu = 86000\n",
    "mean = police_sample.mean()\n",
    "s = police_sample.std(ddof=1)\n",
    "n=50\n",
    "\n",
    "statistic = (mean - mu)/(s/np.sqrt(n))\n",
    "print(statistic)\n",
    "\n",
    "#5. get p-value (don't times by 2)\n",
    "\n",
    "p_value = st.t.sf(abs(statistic),n-1)\n",
    "p_value\n",
    "\n",
    "#6 - first of all the statistic has a negative value then secondary it has a 46% error, H0 cannot be rejected"
   ]
  },
  {
   "cell_type": "code",
   "execution_count": 167,
   "metadata": {},
   "outputs": [
    {
     "data": {
      "text/plain": [
       "0.4607196529908868"
      ]
     },
     "execution_count": 167,
     "metadata": {},
     "output_type": "execute_result"
    }
   ],
   "source": [
    "#using inbuilt function\n",
    "\n",
    "st.ttest_1samp(police_sample,mu)[1]/2"
   ]
  },
  {
   "cell_type": "markdown",
   "metadata": {},
   "source": [
    "Using the `crosstab` function, find the department that has the most hourly workers. "
   ]
  },
  {
   "cell_type": "code",
   "execution_count": 168,
   "metadata": {},
   "outputs": [
    {
     "data": {
      "text/html": [
       "<div>\n",
       "<style scoped>\n",
       "    .dataframe tbody tr th:only-of-type {\n",
       "        vertical-align: middle;\n",
       "    }\n",
       "\n",
       "    .dataframe tbody tr th {\n",
       "        vertical-align: top;\n",
       "    }\n",
       "\n",
       "    .dataframe thead th {\n",
       "        text-align: right;\n",
       "    }\n",
       "</style>\n",
       "<table border=\"1\" class=\"dataframe\">\n",
       "  <thead>\n",
       "    <tr style=\"text-align: right;\">\n",
       "      <th>Salary or Hourly</th>\n",
       "      <th>Hourly</th>\n",
       "      <th>Salary</th>\n",
       "    </tr>\n",
       "    <tr>\n",
       "      <th>Department</th>\n",
       "      <th></th>\n",
       "      <th></th>\n",
       "    </tr>\n",
       "  </thead>\n",
       "  <tbody>\n",
       "    <tr>\n",
       "      <th>STREETS &amp; SAN</th>\n",
       "      <td>1862</td>\n",
       "      <td>336</td>\n",
       "    </tr>\n",
       "  </tbody>\n",
       "</table>\n",
       "</div>"
      ],
      "text/plain": [
       "Salary or Hourly  Hourly  Salary\n",
       "Department                      \n",
       "STREETS & SAN       1862     336"
      ]
     },
     "execution_count": 168,
     "metadata": {},
     "output_type": "execute_result"
    }
   ],
   "source": [
    "# Your code here:\n",
    "\n",
    "cross_tab = pd.crosstab(index = salaries['Department'],columns=salaries['Salary or Hourly'])\n",
    "cross_tab[cross_tab['Hourly']== cross_tab['Hourly'].max()]"
   ]
  },
  {
   "cell_type": "markdown",
   "metadata": {},
   "source": [
    "The workers from the department with the most hourly workers have complained that their hourly wage is less than $35/hour. Using a one sample t-test, test this one-sided hypothesis at the 95% confidence level."
   ]
  },
  {
   "cell_type": "code",
   "execution_count": 171,
   "metadata": {},
   "outputs": [],
   "source": [
    "# Your code here:\n",
    "#1.Set hypothesis: H0: mu <= 35/hr\n",
    "\n",
    "#2. sig level: 0.05\n",
    "sig_level = 0.05\n",
    "\n",
    "#3. select sample\n",
    "\n",
    "streetsan_sample = salaries[(salaries['Department']=='STREETS & SAN') & (salaries['Salary or Hourly']=='Hourly')]['Hourly Rate'].sample(50)\n",
    "\n",
    "\n",
    "\n",
    "\n"
   ]
  },
  {
   "cell_type": "code",
   "execution_count": 172,
   "metadata": {},
   "outputs": [
    {
     "name": "stdout",
     "output_type": "stream",
     "text": [
      "Ttest_1sampResult(statistic=-2.308330704889571, pvalue=0.025242075340384255)\n",
      "0.012621037670192127\n"
     ]
    },
    {
     "data": {
      "text/plain": [
       "True"
      ]
     },
     "execution_count": 172,
     "metadata": {},
     "output_type": "execute_result"
    }
   ],
   "source": [
    "#4 compute statistic & #5 compute p-value\n",
    "mu=35\n",
    "print(st.ttest_1samp(streetsan_sample,mu))\n",
    "print(st.ttest_1samp(streetsan_sample,mu)[1]/2)\n",
    "\n",
    "#6 decide\n",
    "st.ttest_1samp(streetsan_sample,mu)[1]/2 <= sig_level\n",
    "\n",
    "#True so H0 cannot be rejected, the street&san workers hypothesis holds. "
   ]
  },
  {
   "cell_type": "markdown",
   "metadata": {},
   "source": [
    "# Challenge 3: To practice - Constructing Confidence Intervals\n",
    "\n",
    "While testing our hypothesis is a great way to gather empirical evidence for accepting or rejecting the hypothesis, another way to gather evidence is by creating a confidence interval. A confidence interval gives us information about the true mean of the population. So for a 95% confidence interval, we are 95% sure that the mean of the population is within the confidence interval. \n",
    ").\n",
    "\n",
    "To read more about confidence intervals, click [here](https://en.wikipedia.org/wiki/Confidence_interval).\n",
    "\n",
    "\n",
    "In the cell below, we will construct a 95% confidence interval for the mean hourly wage of all hourly workers. \n",
    "\n",
    "The confidence interval is computed in SciPy using the `t.interval` function. You can read more about this function [here](https://docs.scipy.org/doc/scipy-0.14.0/reference/generated/scipy.stats.t.html).\n",
    "\n",
    "To compute the confidence interval of the hourly wage, use the 0.95 for the confidence level, number of rows - 1 for degrees of freedom, the mean of the sample for the location parameter and the standard error for the scale. The standard error can be computed using [this](https://docs.scipy.org/doc/scipy/reference/generated/scipy.stats.sem.html) function in SciPy."
   ]
  },
  {
   "cell_type": "code",
   "execution_count": 178,
   "metadata": {},
   "outputs": [],
   "source": [
    "# Your code here:\n",
    "#we need sample mean, number of observations -1, standard error\n"
   ]
  },
  {
   "cell_type": "code",
   "execution_count": 189,
   "metadata": {},
   "outputs": [
    {
     "name": "stdout",
     "output_type": "stream",
     "text": [
      "left end:  32.52344181507858\n",
      "right end:  33.0536736174819\n",
      "(32.52344181507858, 33.0536736174819)\n"
     ]
    }
   ],
   "source": [
    "#1. confidence level\n",
    "cl=0.95\n",
    "\n",
    "#2 sample, mean, std, t-score, n by hand\n",
    "hourly_wages = salaries[salaries['Salary or Hourly']=='Hourly']['Hourly Rate']\n",
    "mean = hourly_wages.mean()\n",
    "s = hourly_wages.std(ddof=1)\n",
    "n=len(hourly_wages)-1\n",
    "t_score = st.t.ppf(1-((1-0.95))/2,n-1)\n",
    "\n",
    "print('left end: ',mean - t_score *(s/np.sqrt(n)))\n",
    "print('right end: ',mean + t_score *(s/np.sqrt(n)))\n",
    "\n",
    "#3 using function\n",
    "\n",
    "print(st.t.interval(0.95,loc=mean,scale=s/np.sqrt(n),df=n-1))\n",
    "\n"
   ]
  },
  {
   "cell_type": "markdown",
   "metadata": {},
   "source": [
    "Now construct the 95% confidence interval for all salaried employeed in the police in the cell below."
   ]
  },
  {
   "cell_type": "code",
   "execution_count": 207,
   "metadata": {},
   "outputs": [
    {
     "name": "stdout",
     "output_type": "stream",
     "text": [
      "1.9601408638119977\n",
      "left end:  86177.17166932367\n",
      "right end:  86795.65733694311\n"
     ]
    },
    {
     "data": {
      "text/plain": [
       "(86177.17166932367, 86795.65733694311)"
      ]
     },
     "execution_count": 207,
     "metadata": {},
     "output_type": "execute_result"
    }
   ],
   "source": [
    "# Your code here:\n",
    "#1. confidence level\n",
    "cl=0.95\n",
    "\n",
    "#2 sample and necessary statistics\n",
    "police_salaries = salaries[salaries['Department']=='POLICE']['Annual Salary']\n",
    "mean = police_salaries.mean()\n",
    "n = len(police_salaries)\n",
    "s = police_salaries.std(ddof=1)\n",
    "t_score = st.t.ppf(1-((1-cl))/2,n-1)\n",
    "print(t_score)\n",
    "print('left end: ', mean - t_score*(s/np.sqrt(n)))\n",
    "print('right end: ',mean + t_score*(s/np.sqrt(n)))\n",
    "\n",
    "#3 using function\n",
    "st.t.interval(cl,loc=mean,scale=s/np.sqrt(n),df=n-1)\n"
   ]
  },
  {
   "cell_type": "markdown",
   "metadata": {},
   "source": [
    "# Bonus Challenge - Hypothesis Tests of Proportions\n",
    "\n",
    "Another type of one sample test is a hypothesis test of proportions. In this test, we examine whether the proportion of a group in our sample is significantly different than a fraction. \n",
    "\n",
    "You can read more about one sample proportion tests [here](http://sphweb.bumc.bu.edu/otlt/MPH-Modules/BS/SAS/SAS6-CategoricalData/SAS6-CategoricalData2.html).\n",
    "\n",
    "In the cell below, use the `proportions_ztest` function from `statsmodels` to perform a hypothesis test that will determine whether the number of hourly workers in the City of Chicago is significantly different from 25% at the 95% confidence level."
   ]
  },
  {
   "cell_type": "code",
   "execution_count": 283,
   "metadata": {
    "scrolled": true
   },
   "outputs": [
    {
     "name": "stdout",
     "output_type": "stream",
     "text": [
      "8022\n",
      "33183\n",
      "-1.7063934428910539\n",
      "0.08793485063288027\n"
     ]
    },
    {
     "data": {
      "text/plain": [
       "True"
      ]
     },
     "execution_count": 283,
     "metadata": {},
     "output_type": "execute_result"
    }
   ],
   "source": [
    "# so if normally distributed, mean = p(proportion)\n",
    "#std is np.sqrt(p(1-p)/n)\n",
    "#as long as np >= 10 and n(1-p) >=10\n",
    "\n",
    "#1. H0: % of hourly workers in Chi town = 25%,H1: % of hourly workers in Chi town != 25%\n",
    "# 2 sided\n",
    "\n",
    "#2. significance level\n",
    "sig_level = 0.05\n",
    "\n",
    "#3. sample\n",
    "sample=salaries[salaries['Salary or Hourly']=='Hourly']\n",
    "\n",
    "#4. compute the statistic\n",
    "\n",
    "n = len(salaries[salaries['Salary or Hourly']=='Hourly'])\n",
    "p=0.25\n",
    "actual_p=len(salaries[salaries['Salary or Hourly']=='Hourly'])/len(salaries)\n",
    "print(len(salaries[salaries['Salary or Hourly']=='Hourly']))\n",
    "print(len(salaries))\n",
    "\n",
    "#z test statistic = (p-p0) / √p0(1-p0)/n\n",
    "z = (actual_p-p)/np.sqrt(p*(1-p)/n)\n",
    "print(z)\n",
    "\n",
    "#5. calculate p-level\n",
    "\n",
    "p_value = st.norm.sf(abs(z))*2\n",
    "print(p_value)\n",
    "\n",
    "#6. decide\n",
    "\n",
    "p_value > sig_level\n",
    "\n",
    "#as this is true, the null hypothesis cannot be rejected. \n"
   ]
  },
  {
   "cell_type": "code",
   "execution_count": 282,
   "metadata": {},
   "outputs": [
    {
     "data": {
      "text/plain": [
       "(-3.5099964213703005, 0.0004481127249057967)"
      ]
     },
     "execution_count": 282,
     "metadata": {},
     "output_type": "execute_result"
    }
   ],
   "source": [
    "#using inbuilt function, however David thinks I am doing something wrong here, he trusts my by hand method above.\n",
    "\n",
    "\n",
    "import statsmodels as sm\n",
    "from statsmodels import stats\n",
    "from statsmodels.stats import weightstats\n",
    "from statsmodels.stats import proportion\n",
    "\n",
    "sm.stats.proportion.proportions_ztest(8022,33183,value=0.25,alternative='two-sided')"
   ]
  },
  {
   "cell_type": "code",
   "execution_count": null,
   "metadata": {},
   "outputs": [],
   "source": []
  },
  {
   "cell_type": "code",
   "execution_count": null,
   "metadata": {},
   "outputs": [],
   "source": []
  }
 ],
 "metadata": {
  "kernelspec": {
   "display_name": "Python 3",
   "language": "python",
   "name": "python3"
  },
  "language_info": {
   "codemirror_mode": {
    "name": "ipython",
    "version": 3
   },
   "file_extension": ".py",
   "mimetype": "text/x-python",
   "name": "python",
   "nbconvert_exporter": "python",
   "pygments_lexer": "ipython3",
   "version": "3.8.5"
  }
 },
 "nbformat": 4,
 "nbformat_minor": 2
}
