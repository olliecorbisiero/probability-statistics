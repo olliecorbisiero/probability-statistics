{
 "cells": [
  {
   "cell_type": "markdown",
   "metadata": {},
   "source": [
    "## Question 1\n",
    "The following table indicates the number of 6-point scores in an American rugby match in the 1979 season.\n",
    "\n",
    "![](table1.png)\n",
    "\n",
    "Based on these results, we create a Poisson distribution with the sample mean parameter  = 2.435. Is there any reason to believe that at a .05 level the number of scores is a Poisson variable?"
   ]
  },
  {
   "cell_type": "code",
   "execution_count": 1,
   "metadata": {},
   "outputs": [
    {
     "name": "stdout",
     "output_type": "stream",
     "text": [
      "2.435267857142857\n"
     ]
    },
    {
     "data": {
      "text/plain": [
       "Power_divergenceResult(statistic=5.524172120256133, pvalue=0.5962698783659182)"
      ]
     },
     "execution_count": 1,
     "metadata": {},
     "output_type": "execute_result"
    }
   ],
   "source": [
    "# your answer here\n",
    "from scipy.stats import poisson\n",
    "import numpy as np\n",
    "import pandas as pd\n",
    "import scipy\n",
    "import scipy.stats as st\n",
    "\n",
    "#null hypothesis H0: distribution of scores = poisson_distribution\n",
    "#sig level = 0.05\n",
    "\n",
    "#building out scores and frequency + checking how mean is calculated\n",
    "scores = np.arange(0,8,1)\n",
    "scores\n",
    "actual_frequency = np.array([35,99,104,110,62,25,10,3])\n",
    "actual_frequency\n",
    "mu=np.sum((scores*actual_frequency)/448)\n",
    "print(mu)\n",
    "\n",
    "#creating poisson distribution with given mean\n",
    "poisson_dist = poisson(mu)\n",
    "expected_frequency = poisson_dist.pmf(scores)*448\n",
    "\n",
    "#checking actual vs expected\n",
    "st.chisquare(actual_frequency,f_exp=expected_frequency)\n",
    "\n",
    "#if the above is correct logic, we cannot reject the null hypothesis given the pvalue is above\n",
    "#our significance threshold\n",
    "\n",
    "\n"
   ]
  },
  {
   "cell_type": "markdown",
   "metadata": {},
   "source": [
    "## BONUS/OPTIONAL - Question 2\n",
    "Let's analyze a discrete distribution. To analyze the number of defective items in a factory in the city of Medellín, we took a random sample of n = 60 articles and observed the number of defectives in the following table:\n",
    "\n",
    "![](table2.png)\n",
    "\n",
    "A poissón distribution was proposed since it is defined for x = 0,1,2,3, .... using the following model:\n",
    "\n",
    "![](image1.png)\n",
    "\n",
    "For some extra insights check the following link: https://online.stat.psu.edu/stat504/node/63/ \n",
    "\n",
    "Does the distribution of defective items follow this distribution?"
   ]
  },
  {
   "cell_type": "code",
   "execution_count": 22,
   "metadata": {},
   "outputs": [
    {
     "data": {
      "text/plain": [
       "5.707902387307702e-06"
      ]
     },
     "execution_count": 22,
     "metadata": {},
     "output_type": "execute_result"
    }
   ],
   "source": [
    "#h0 distribution of defective items = poisson distribution\n",
    "\n",
    "#sig level = 0.5% (always onesided for chi tests, 0.5% is same as a two-sided 1%)\n",
    "\n",
    "#observed data\n",
    "\n",
    "defects = np.array([0,1,3,4])\n",
    "frequency = np.array([32,15,9,4])\n",
    "\n",
    "#calculate the mean)\n",
    "\n",
    "mu = np.sum((defects*frequency)/np.sum(frequency))\n",
    "\n",
    "poisson_dist = poisson(mu)\n",
    "\n",
    "#generate poisson expected scores\n",
    "expected_frequency = poisson_dist.pmf(defects)*np.sum(frequency)\n",
    "\n",
    "#calculate statistic (essentially sum of squared deviation)\n",
    "statistic = np.sum(np.square(frequency-expected_frequency)/expected_frequency)\n",
    "\n",
    "#calculate p-value (likelihood of this happening by chance)\n",
    "p_value = st.chi2.sf(abs(statistic),3)\n",
    "\n",
    "p_value\n",
    "#p_value is below our significance level so can reject the null hypothesis. "
   ]
  },
  {
   "cell_type": "code",
   "execution_count": 23,
   "metadata": {},
   "outputs": [
    {
     "data": {
      "text/plain": [
       "Power_divergenceResult(statistic=27.06412421293043, pvalue=5.707902387307702e-06)"
      ]
     },
     "execution_count": 23,
     "metadata": {},
     "output_type": "execute_result"
    }
   ],
   "source": [
    "#using function\n",
    "\n",
    "st.chisquare(frequency,f_exp=expected_frequency)"
   ]
  },
  {
   "cell_type": "markdown",
   "metadata": {},
   "source": [
    "## Question 3\n",
    "A quality control engineer takes a sample of 10 tires that come out of an assembly line, and would like to verify on the basis of the data that follows, if the number of tires with defects observed over 200 days, if it is true that 5% of all tires have defects (that is, if the sample comes from a binomial population with n = 10 and p = 0.05). \n",
    "\n",
    "![](table3.png)\n"
   ]
  },
  {
   "cell_type": "code",
   "execution_count": 95,
   "metadata": {},
   "outputs": [
    {
     "data": {
      "text/plain": [
       "Power_divergenceResult(statistic=6.730152995610064, pvalue=0.034559372300758)"
      ]
     },
     "execution_count": 95,
     "metadata": {},
     "output_type": "execute_result"
    }
   ],
   "source": [
    "# your answer here\n",
    "from scipy.stats import binom\n",
    "\n",
    "defects = np.array([0,1,2])\n",
    "frequency = np.array([138,53,9])\n",
    "n = 10\n",
    "p = 0.05\n",
    "\n",
    "binom_dist = binom(n,p)\n",
    "\n",
    "expected_freq = binom_dist.pmf(scores)*np.sum(frequency)\n",
    "st.chisquare(frequency,f_exp=expected_freq)\n",
    "\n",
    "#based on the above logic, we can reject the null hypothesis given the high deviation and the\n",
    "#p-value below our significance level of 0.05\n",
    "\n"
   ]
  },
  {
   "cell_type": "markdown",
   "metadata": {},
   "source": [
    "## Question 4\n",
    "A researcher gathers information about the patterns of Physical Activity of children in the fifth grade of primary school of a public school. He defines three categories of physical activity (Low, Medium, High). He also inquires about the regular consumption of sugary drinks at school, and defines two categories (Yes = consumed, No = not consumed). We would like to evaluate if there is an association between patterns of physical activity and the consumption of sugary drinks for the children of this school, at a level of 5% significance. The results are in the following table: \n",
    "\n",
    "![](table4.png)"
   ]
  },
  {
   "cell_type": "code",
   "execution_count": 104,
   "metadata": {},
   "outputs": [
    {
     "name": "stdout",
     "output_type": "stream",
     "text": [
      "stat 10.712198008709638 p-value 0.004719280137040844 dof 2 expected_array [[24.08421053 19.91578947]\n",
      " [19.70526316 16.29473684]\n",
      " [ 8.21052632  6.78947368]]\n"
     ]
    }
   ],
   "source": [
    "#your answer here\n",
    "\n",
    "table = [[32,12],\n",
    "         [14,22],\n",
    "         [6,9]]\n",
    "\n",
    "stat,p_value,dof,expected_array = st.chi2_contingency(np.array(table))\n",
    "\n",
    "print('stat',stat,'p-value',p_value,'dof',dof,'expected_array',expected_array)"
   ]
  },
  {
   "cell_type": "code",
   "execution_count": null,
   "metadata": {},
   "outputs": [],
   "source": [
    "#based on the results, statistic of 10.7 and p-value of 0.00471, which is below our significance level.\n",
    "#we can reject the null hypothesis\n",
    "#it seems there is an association with sugary drink consumption and physical activity. "
   ]
  }
 ],
 "metadata": {
  "kernelspec": {
   "display_name": "Python 3",
   "language": "python",
   "name": "python3"
  },
  "language_info": {
   "codemirror_mode": {
    "name": "ipython",
    "version": 3
   },
   "file_extension": ".py",
   "mimetype": "text/x-python",
   "name": "python",
   "nbconvert_exporter": "python",
   "pygments_lexer": "ipython3",
   "version": "3.8.5"
  }
 },
 "nbformat": 4,
 "nbformat_minor": 2
}
