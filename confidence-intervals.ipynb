{
 "cells": [
  {
   "cell_type": "markdown",
   "metadata": {},
   "source": [
    "# Confidence Intervals"
   ]
  },
  {
   "cell_type": "code",
   "execution_count": 16,
   "metadata": {},
   "outputs": [],
   "source": [
    "# Libraries\n",
    "\n",
    "import numpy as np\n",
    "import pandas as pd\n",
    "from scipy import stats as st"
   ]
  },
  {
   "cell_type": "markdown",
   "metadata": {},
   "source": [
    "## Challenge 1\n",
    "We want to estimate the average size of the men of a country with a confidence level of 80%. Assuming that the standard deviation of the sizes in the population is 4, get the confidence interval with a sample of men selected randomly, whose heights are:\n",
    "\n",
    "````\n",
    "heights = [167, 167, 168, 168, 168, 169, 171, 172, 173, 175, 175, 175, 177, 182, 195]\n",
    "````\n",
    "\n",
    "**Hint**: function `stats.norm.interval` from `scipy` can help you get through this exercise. "
   ]
  },
  {
   "cell_type": "code",
   "execution_count": 43,
   "metadata": {},
   "outputs": [
    {
     "name": "stdout",
     "output_type": "stream",
     "text": [
      "long way around (by hand)\n",
      "left end: 171.11485238812165\n",
      "right end: 175.8184809452117\n",
      "\n",
      "using function (171.11485238812165, 175.8184809452117)\n"
     ]
    }
   ],
   "source": [
    "# your code here\n",
    "#for confidence interval we need 1) mean of the sample, 2) number of observations 3) std of original distribution\n",
    "\n",
    "heights = [167, 167, 168, 168, 168, 169, 171, 172, 173, 175, 175, 175, 177, 182, 195]\n",
    "\n",
    "#long way around\n",
    "n = len(heights)\n",
    "mean = np.mean(heights)\n",
    "s = np.std(heights)\n",
    "z_score = st.norm.ppf(1-((1-0.80)/2))\n",
    "\n",
    "print('long way around (by hand)')\n",
    "print('left end:', mean - z_score*(s/np.sqrt(n)))\n",
    "print('right end:', mean + z_score*(s/np.sqrt(n)))\n",
    "print()\n",
    "#letting python doing the heavy lifting\n",
    "\n",
    "print('using function',stats.norm.interval(0.80,loc=mean,scale=s/np.sqrt(n)))\n",
    "\n",
    "\n",
    "\n"
   ]
  },
  {
   "cell_type": "markdown",
   "metadata": {},
   "source": [
    "## Challenge 2 \n",
    "In a sample of 105 shops selected randomly from an area, we note that 27 of them have had losses in this month. Get an interval for the proportion of businesses in the area with losses to a confidence level of 80% and a confidence level of 90%.\n",
    "\n",
    "**Hint**: function `stats.norm.interval` from `scipy` can help you get through this exercise. "
   ]
  },
  {
   "cell_type": "code",
   "execution_count": 54,
   "metadata": {},
   "outputs": [
    {
     "name": "stdout",
     "output_type": "stream",
     "text": [
      "0.20248138545542083\n",
      "(0.20248138545542083, 0.3118043288302934)\n",
      "(0.1869856177645281, 0.3273000965211861)\n"
     ]
    }
   ],
   "source": [
    "# your code here\n",
    "\n",
    "#so if normally distributed, mean = p (proportion)\n",
    "#std is np.sqrt(p(1-p)/n)\n",
    "#as long as np >= 10 and n(1-p)>=10\n",
    "\n",
    "n= 105\n",
    "p = 27/105\n",
    "\n",
    "std_error = (p*(1-p)/(n))**0.5\n",
    "\n",
    "z_score = st.norm.ppf(1-((1-0.80)/2))\n",
    "\n",
    "by_hand = p - z_score*(std_error)\n",
    "\n",
    "print(by_hand)\n",
    "print(st.norm.interval(0.8,loc=p,scale=std_error))\n",
    "print(st.norm.interval(0.9,loc=p,scale=std_error))\n",
    "\n"
   ]
  },
  {
   "cell_type": "code",
   "execution_count": 70,
   "metadata": {},
   "outputs": [
    {
     "data": {
      "text/plain": [
       "(0.20248138545542083, 0.3118043288302934)"
      ]
     },
     "execution_count": 70,
     "metadata": {},
     "output_type": "execute_result"
    }
   ],
   "source": [
    "#using an array of ones and zeros (bernoulli distribution)\n",
    "array = list(np.ones(27))+list(np.zeros(78))\n",
    "\n",
    "np.mean(array)\n",
    "np.std(array)\n",
    "\n",
    "st.norm.interval(0.8,loc=np.mean(array),scale=np.std(array)/np.sqrt(105))"
   ]
  },
  {
   "cell_type": "markdown",
   "metadata": {},
   "source": [
    "## Bonus Challenge\n",
    "The error level or sampling error for the first challenge is given by the following expression:\n",
    "$$Error = z_{\\frac{\\alpha}{2}}\\frac{\\sigma}{\\sqrt n}$$\n",
    "Where z represents the value for N(0,1)\n",
    "\n",
    "\n",
    "Suppose that with the previous data of challenge 1, and with a confidence level of\n",
    "99% (that is, almost certainly) we want to estimate the average population size, so that the error level committed is not greater than half a centimeter.\n",
    "\n",
    "#### 1.- Determine what size the selected sample of men should be."
   ]
  },
  {
   "cell_type": "code",
   "execution_count": 96,
   "metadata": {},
   "outputs": [
    {
     "data": {
      "text/plain": [
       "0.5"
      ]
     },
     "execution_count": 96,
     "metadata": {},
     "output_type": "execute_result"
    }
   ],
   "source": [
    "s = np.std(heights)\n",
    "w = 0.5\n",
    "t0= st.norm.ppf(1-((1-0.99)/2))\n",
    "w"
   ]
  },
  {
   "cell_type": "code",
   "execution_count": 98,
   "metadata": {},
   "outputs": [
    {
     "data": {
      "text/plain": [
       "5362.647805668062"
      ]
     },
     "execution_count": 98,
     "metadata": {},
     "output_type": "execute_result"
    }
   ],
   "source": [
    "def find_n(t,s,w):\n",
    "    return (2*t*s/w)**2\n",
    "\n",
    "n_temp = find_n(t0,s,w)\n",
    "n_temp\n"
   ]
  },
  {
   "cell_type": "code",
   "execution_count": 99,
   "metadata": {},
   "outputs": [
    {
     "data": {
      "text/plain": [
       "2.5767465953907642"
      ]
     },
     "execution_count": 99,
     "metadata": {},
     "output_type": "execute_result"
    }
   ],
   "source": [
    "t1 = st.t.ppf(1-((1-0.99)/2),n_temp-1)\n",
    "t1"
   ]
  },
  {
   "cell_type": "code",
   "execution_count": 100,
   "metadata": {},
   "outputs": [
    {
     "data": {
      "text/plain": [
       "5366.467926016485"
      ]
     },
     "execution_count": 100,
     "metadata": {},
     "output_type": "execute_result"
    }
   ],
   "source": [
    "n_temp = find_n(t1,s,w)\n",
    "n_temp"
   ]
  },
  {
   "cell_type": "code",
   "execution_count": 103,
   "metadata": {},
   "outputs": [
    {
     "data": {
      "text/plain": [
       "2.5767459420760743"
      ]
     },
     "execution_count": 103,
     "metadata": {},
     "output_type": "execute_result"
    }
   ],
   "source": [
    "t2 = st.t.ppf(1-((1-0.99)/2),n_temp-1)\n",
    "t2"
   ]
  },
  {
   "cell_type": "code",
   "execution_count": 105,
   "metadata": {},
   "outputs": [
    {
     "name": "stdout",
     "output_type": "stream",
     "text": [
      "sample size should be: 5366.465204761791\n"
     ]
    }
   ],
   "source": [
    "n_temp = find_n(t2,s,w)\n",
    "n_temp\n",
    "\n",
    "print('sample size should be:',n_temp)"
   ]
  },
  {
   "cell_type": "markdown",
   "metadata": {},
   "source": [
    "#### 2.- For the second challenge, we have the following error:\n",
    "$$ Error = z_{\\frac{\\alpha}{2}}\\sqrt{\\frac{p\\times q}{n}} $$\n",
    "#### Determine the sample size required to not exceed an error of 1% with a confidence of 80%."
   ]
  },
  {
   "cell_type": "code",
   "execution_count": 107,
   "metadata": {},
   "outputs": [],
   "source": [
    "# your code here\n",
    "def find_n(t,s,w):\n",
    "    return (2*t*s/w)**2\n"
   ]
  },
  {
   "cell_type": "code",
   "execution_count": 111,
   "metadata": {},
   "outputs": [
    {
     "data": {
      "text/plain": [
       "12549.081245552878"
      ]
     },
     "execution_count": 111,
     "metadata": {},
     "output_type": "execute_result"
    }
   ],
   "source": [
    "m = np.mean(array)\n",
    "s = np.std(array)\n",
    "w= 0.01\n",
    "\n",
    "t0 = st.norm.ppf(1-((1-0.8)/2))\n",
    "\n",
    "n_temp = find_n(t0,s,w)\n",
    "n_temp"
   ]
  },
  {
   "cell_type": "code",
   "execution_count": 120,
   "metadata": {},
   "outputs": [
    {
     "data": {
      "text/plain": [
       "12550.3827904591"
      ]
     },
     "execution_count": 120,
     "metadata": {},
     "output_type": "execute_result"
    }
   ],
   "source": [
    "t1 = st.t.ppf(1-((1-0.8)/2),n_temp-1)\n",
    "t1\n",
    "\n",
    "n_temp = find_n(t1,s,w)\n",
    "n_temp"
   ]
  },
  {
   "cell_type": "code",
   "execution_count": 121,
   "metadata": {},
   "outputs": [
    {
     "data": {
      "text/plain": [
       "12550.40250678565"
      ]
     },
     "execution_count": 121,
     "metadata": {},
     "output_type": "execute_result"
    }
   ],
   "source": [
    "t2 = st.t.ppf(1-((1-0.8)/2),n_temp-1)\n",
    "t2\n",
    "\n",
    "n_temp = find_n(t2,s,w)\n",
    "n_temp"
   ]
  },
  {
   "cell_type": "code",
   "execution_count": null,
   "metadata": {},
   "outputs": [],
   "source": [
    "#sample size is 12551"
   ]
  },
  {
   "cell_type": "markdown",
   "metadata": {},
   "source": [
    "## Bonus Challenge\n",
    "\n",
    "Let's consider the following problem:\n",
    "\n",
    "Build a confidence interval of 94% for the real difference between the durations of two brands of spotlights, if a sample of 40 spotlights taken randomly from the first mark gave an average duration of 418 hours, and a sample of 50 bulbs of another brand gave a duration average of 402 hours. The standard deviations of the two\n",
    "populations are 26 hours and 22 hours, respectively.\n",
    "\n",
    "Sometimes, we will be interested in the difference of two different groups of random variables. We can also build a confidence interval for that! We have some different cases regarding the variance but for this specific case (the variance are different and known), we have that:\n",
    "\n",
    "$$\\overline{X} - \\overline{Y}  \\sim N(\\mu_{X} - \\mu_{Y} , \\sqrt{\\frac{\\sigma_{X}^2}{n_X}+\\frac{\\sigma_{Y}^2}{n_Y}})$$\n",
    "\n",
    "Solve the problem with this information."
   ]
  },
  {
   "cell_type": "code",
   "execution_count": 133,
   "metadata": {},
   "outputs": [
    {
     "data": {
      "text/plain": [
       "(6.176818316419617, 25.823181683580383)"
      ]
     },
     "execution_count": 133,
     "metadata": {},
     "output_type": "execute_result"
    }
   ],
   "source": [
    "## i want to see with 94% confidence the average difference between these two brand populations,\n",
    "#using the average difference from this sample (mean)\n",
    "#note degrees of freedom is (n1+n2) - 2\n",
    "n1 = 40\n",
    "m1 = 418\n",
    "s1 = 26\n",
    "t1\n",
    "\n",
    "st.t.ppf(1-((1-0.94)/2),n-1)\n",
    "\n",
    "n2 = 50\n",
    "m2 = 402\n",
    "s2 = 22\n",
    "t1\n",
    "\n",
    "mean = m1 - m2\n",
    "std_error = np.sqrt((s1**2/n1)+(s2**2/n2))\n",
    "std_error\n",
    "\n",
    "st.t.interval(0.94,loc=mean,scale = std_error,df=(n1+n2)-2)\n"
   ]
  },
  {
   "cell_type": "code",
   "execution_count": 131,
   "metadata": {},
   "outputs": [
    {
     "data": {
      "text/plain": [
       "(6.303419026585921, 25.69658097341408)"
      ]
     },
     "execution_count": 131,
     "metadata": {},
     "output_type": "execute_result"
    }
   ],
   "source": [
    "#norm interval is narrower given higher kurtosis. \n",
    "\n",
    "st.norm.interval(0.94,loc=mean,scale=std_error)"
   ]
  },
  {
   "cell_type": "code",
   "execution_count": 135,
   "metadata": {},
   "outputs": [],
   "source": [
    "#by hand\n",
    "t_score = st.t.ppf(1-(1-0.94)/2,(n1+n2)-2)"
   ]
  },
  {
   "cell_type": "code",
   "execution_count": 136,
   "metadata": {},
   "outputs": [
    {
     "data": {
      "text/plain": [
       "6.176818316419617"
      ]
     },
     "execution_count": 136,
     "metadata": {},
     "output_type": "execute_result"
    }
   ],
   "source": [
    "mean - t_score*(std_error)"
   ]
  },
  {
   "cell_type": "code",
   "execution_count": 137,
   "metadata": {},
   "outputs": [
    {
     "data": {
      "text/plain": [
       "25.823181683580383"
      ]
     },
     "execution_count": 137,
     "metadata": {},
     "output_type": "execute_result"
    }
   ],
   "source": [
    "mean + t_score*(std_error)"
   ]
  },
  {
   "cell_type": "code",
   "execution_count": null,
   "metadata": {},
   "outputs": [],
   "source": []
  }
 ],
 "metadata": {
  "kernelspec": {
   "display_name": "Python 3",
   "language": "python",
   "name": "python3"
  },
  "language_info": {
   "codemirror_mode": {
    "name": "ipython",
    "version": 3
   },
   "file_extension": ".py",
   "mimetype": "text/x-python",
   "name": "python",
   "nbconvert_exporter": "python",
   "pygments_lexer": "ipython3",
   "version": "3.8.5"
  }
 },
 "nbformat": 4,
 "nbformat_minor": 2
}
